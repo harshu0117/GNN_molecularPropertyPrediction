{
  "nbformat": 4,
  "nbformat_minor": 0,
  "metadata": {
    "colab": {
      "provenance": []
    },
    "kernelspec": {
      "name": "python3",
      "display_name": "Python 3"
    },
    "language_info": {
      "name": "python"
    }
  },
  "cells": [
    {
      "cell_type": "code",
      "source": [
        "# 🔁 Step 0: Factory reset first (important!)\n",
        "# Runtime > Factory Reset Runtime\n",
        "\n",
        "# 🔥 Step 1: Remove broken versions\n",
        "!pip uninstall -y torch-scatter torch-sparse torch-cluster torch-spline-conv torch-geometric\n",
        "\n",
        "# ⚙️ Step 2: Clean install for PyTorch 2.1.0 + CPU wheels\n",
        "!pip install torch==2.1.0 torchvision==0.16.0 torchaudio==2.1.0 --index-url https://download.pytorch.org/whl/cpu\n",
        "!pip install torch-scatter -f https://data.pyg.org/whl/torch-2.1.0+cpu.html\n",
        "!pip install torch-sparse -f https://data.pyg.org/whl/torch-2.1.0+cpu.html\n",
        "!pip install torch-cluster -f https://data.pyg.org/whl/torch-2.1.0+cpu.html\n",
        "!pip install torch-spline-conv -f https://data.pyg.org/whl/torch-2.1.0+cpu.html\n",
        "!pip install torch-geometric\n"
      ],
      "metadata": {
        "colab": {
          "base_uri": "https://localhost:8080/"
        },
        "id": "Jc3b6Ln9xK4O",
        "outputId": "ca9a12f3-124f-4779-eb98-4b17b06fcbea"
      },
      "execution_count": null,
      "outputs": [
        {
          "output_type": "stream",
          "name": "stdout",
          "text": [
            "Found existing installation: torch-scatter 2.1.2+pt21cpu\n",
            "Uninstalling torch-scatter-2.1.2+pt21cpu:\n",
            "  Successfully uninstalled torch-scatter-2.1.2+pt21cpu\n",
            "Found existing installation: torch-sparse 0.6.18+pt21cpu\n",
            "Uninstalling torch-sparse-0.6.18+pt21cpu:\n",
            "  Successfully uninstalled torch-sparse-0.6.18+pt21cpu\n",
            "Found existing installation: torch-cluster 1.6.3+pt21cpu\n",
            "Uninstalling torch-cluster-1.6.3+pt21cpu:\n",
            "  Successfully uninstalled torch-cluster-1.6.3+pt21cpu\n",
            "Found existing installation: torch-spline-conv 1.2.2+pt21cpu\n",
            "Uninstalling torch-spline-conv-1.2.2+pt21cpu:\n",
            "  Successfully uninstalled torch-spline-conv-1.2.2+pt21cpu\n",
            "Found existing installation: torch-geometric 2.6.1\n",
            "Uninstalling torch-geometric-2.6.1:\n",
            "  Successfully uninstalled torch-geometric-2.6.1\n",
            "Looking in indexes: https://download.pytorch.org/whl/cpu\n",
            "Requirement already satisfied: torch==2.1.0 in /usr/local/lib/python3.11/dist-packages (2.1.0+cpu)\n",
            "Requirement already satisfied: torchvision==0.16.0 in /usr/local/lib/python3.11/dist-packages (0.16.0+cpu)\n",
            "Requirement already satisfied: torchaudio==2.1.0 in /usr/local/lib/python3.11/dist-packages (2.1.0+cpu)\n",
            "Requirement already satisfied: filelock in /usr/local/lib/python3.11/dist-packages (from torch==2.1.0) (3.18.0)\n",
            "Requirement already satisfied: typing-extensions in /usr/local/lib/python3.11/dist-packages (from torch==2.1.0) (4.13.0)\n",
            "Requirement already satisfied: sympy in /usr/local/lib/python3.11/dist-packages (from torch==2.1.0) (1.13.1)\n",
            "Requirement already satisfied: networkx in /usr/local/lib/python3.11/dist-packages (from torch==2.1.0) (3.4.2)\n",
            "Requirement already satisfied: jinja2 in /usr/local/lib/python3.11/dist-packages (from torch==2.1.0) (3.1.6)\n",
            "Requirement already satisfied: fsspec in /usr/local/lib/python3.11/dist-packages (from torch==2.1.0) (2025.3.2)\n",
            "Requirement already satisfied: numpy in /usr/local/lib/python3.11/dist-packages (from torchvision==0.16.0) (1.26.4)\n",
            "Requirement already satisfied: requests in /usr/local/lib/python3.11/dist-packages (from torchvision==0.16.0) (2.32.3)\n",
            "Requirement already satisfied: pillow!=8.3.*,>=5.3.0 in /usr/local/lib/python3.11/dist-packages (from torchvision==0.16.0) (11.1.0)\n",
            "Requirement already satisfied: MarkupSafe>=2.0 in /usr/local/lib/python3.11/dist-packages (from jinja2->torch==2.1.0) (3.0.2)\n",
            "Requirement already satisfied: charset-normalizer<4,>=2 in /usr/local/lib/python3.11/dist-packages (from requests->torchvision==0.16.0) (3.4.1)\n",
            "Requirement already satisfied: idna<4,>=2.5 in /usr/local/lib/python3.11/dist-packages (from requests->torchvision==0.16.0) (3.10)\n",
            "Requirement already satisfied: urllib3<3,>=1.21.1 in /usr/local/lib/python3.11/dist-packages (from requests->torchvision==0.16.0) (2.3.0)\n",
            "Requirement already satisfied: certifi>=2017.4.17 in /usr/local/lib/python3.11/dist-packages (from requests->torchvision==0.16.0) (2025.1.31)\n",
            "Requirement already satisfied: mpmath<1.4,>=1.1.0 in /usr/local/lib/python3.11/dist-packages (from sympy->torch==2.1.0) (1.3.0)\n",
            "Looking in links: https://data.pyg.org/whl/torch-2.1.0+cpu.html\n",
            "Collecting torch-scatter\n",
            "  Using cached https://data.pyg.org/whl/torch-2.1.0%2Bcpu/torch_scatter-2.1.2%2Bpt21cpu-cp311-cp311-linux_x86_64.whl (500 kB)\n",
            "Installing collected packages: torch-scatter\n",
            "Successfully installed torch-scatter-2.1.2+pt21cpu\n",
            "Looking in links: https://data.pyg.org/whl/torch-2.1.0+cpu.html\n",
            "Collecting torch-sparse\n",
            "  Using cached https://data.pyg.org/whl/torch-2.1.0%2Bcpu/torch_sparse-0.6.18%2Bpt21cpu-cp311-cp311-linux_x86_64.whl (1.2 MB)\n",
            "Requirement already satisfied: scipy in /usr/local/lib/python3.11/dist-packages (from torch-sparse) (1.14.1)\n",
            "Requirement already satisfied: numpy<2.3,>=1.23.5 in /usr/local/lib/python3.11/dist-packages (from scipy->torch-sparse) (1.26.4)\n",
            "Installing collected packages: torch-sparse\n",
            "Successfully installed torch-sparse-0.6.18+pt21cpu\n",
            "Looking in links: https://data.pyg.org/whl/torch-2.1.0+cpu.html\n",
            "Collecting torch-cluster\n",
            "  Using cached https://data.pyg.org/whl/torch-2.1.0%2Bcpu/torch_cluster-1.6.3%2Bpt21cpu-cp311-cp311-linux_x86_64.whl (753 kB)\n",
            "Requirement already satisfied: scipy in /usr/local/lib/python3.11/dist-packages (from torch-cluster) (1.14.1)\n",
            "Requirement already satisfied: numpy<2.3,>=1.23.5 in /usr/local/lib/python3.11/dist-packages (from scipy->torch-cluster) (1.26.4)\n",
            "Installing collected packages: torch-cluster\n",
            "Successfully installed torch-cluster-1.6.3+pt21cpu\n",
            "Looking in links: https://data.pyg.org/whl/torch-2.1.0+cpu.html\n",
            "Collecting torch-spline-conv\n",
            "  Using cached https://data.pyg.org/whl/torch-2.1.0%2Bcpu/torch_spline_conv-1.2.2%2Bpt21cpu-cp311-cp311-linux_x86_64.whl (210 kB)\n",
            "Installing collected packages: torch-spline-conv\n",
            "Successfully installed torch-spline-conv-1.2.2+pt21cpu\n",
            "Collecting torch-geometric\n",
            "  Using cached torch_geometric-2.6.1-py3-none-any.whl.metadata (63 kB)\n",
            "Requirement already satisfied: aiohttp in /usr/local/lib/python3.11/dist-packages (from torch-geometric) (3.11.15)\n",
            "Requirement already satisfied: fsspec in /usr/local/lib/python3.11/dist-packages (from torch-geometric) (2025.3.2)\n",
            "Requirement already satisfied: jinja2 in /usr/local/lib/python3.11/dist-packages (from torch-geometric) (3.1.6)\n",
            "Requirement already satisfied: numpy in /usr/local/lib/python3.11/dist-packages (from torch-geometric) (1.26.4)\n",
            "Requirement already satisfied: psutil>=5.8.0 in /usr/local/lib/python3.11/dist-packages (from torch-geometric) (5.9.5)\n",
            "Requirement already satisfied: pyparsing in /usr/local/lib/python3.11/dist-packages (from torch-geometric) (3.2.3)\n",
            "Requirement already satisfied: requests in /usr/local/lib/python3.11/dist-packages (from torch-geometric) (2.32.3)\n",
            "Requirement already satisfied: tqdm in /usr/local/lib/python3.11/dist-packages (from torch-geometric) (4.67.1)\n",
            "Requirement already satisfied: aiohappyeyeballs>=2.3.0 in /usr/local/lib/python3.11/dist-packages (from aiohttp->torch-geometric) (2.6.1)\n",
            "Requirement already satisfied: aiosignal>=1.1.2 in /usr/local/lib/python3.11/dist-packages (from aiohttp->torch-geometric) (1.3.2)\n",
            "Requirement already satisfied: attrs>=17.3.0 in /usr/local/lib/python3.11/dist-packages (from aiohttp->torch-geometric) (25.3.0)\n",
            "Requirement already satisfied: frozenlist>=1.1.1 in /usr/local/lib/python3.11/dist-packages (from aiohttp->torch-geometric) (1.5.0)\n",
            "Requirement already satisfied: multidict<7.0,>=4.5 in /usr/local/lib/python3.11/dist-packages (from aiohttp->torch-geometric) (6.3.1)\n",
            "Requirement already satisfied: propcache>=0.2.0 in /usr/local/lib/python3.11/dist-packages (from aiohttp->torch-geometric) (0.3.1)\n",
            "Requirement already satisfied: yarl<2.0,>=1.17.0 in /usr/local/lib/python3.11/dist-packages (from aiohttp->torch-geometric) (1.18.3)\n",
            "Requirement already satisfied: MarkupSafe>=2.0 in /usr/local/lib/python3.11/dist-packages (from jinja2->torch-geometric) (3.0.2)\n",
            "Requirement already satisfied: charset-normalizer<4,>=2 in /usr/local/lib/python3.11/dist-packages (from requests->torch-geometric) (3.4.1)\n",
            "Requirement already satisfied: idna<4,>=2.5 in /usr/local/lib/python3.11/dist-packages (from requests->torch-geometric) (3.10)\n",
            "Requirement already satisfied: urllib3<3,>=1.21.1 in /usr/local/lib/python3.11/dist-packages (from requests->torch-geometric) (2.3.0)\n",
            "Requirement already satisfied: certifi>=2017.4.17 in /usr/local/lib/python3.11/dist-packages (from requests->torch-geometric) (2025.1.31)\n",
            "Using cached torch_geometric-2.6.1-py3-none-any.whl (1.1 MB)\n",
            "Installing collected packages: torch-geometric\n",
            "Successfully installed torch-geometric-2.6.1\n"
          ]
        }
      ]
    },
    {
      "cell_type": "code",
      "source": [
        "from torch_geometric.nn import radius_graph\n",
        "print(\"radius_graph is working ✅\")\n"
      ],
      "metadata": {
        "colab": {
          "base_uri": "https://localhost:8080/"
        },
        "id": "xgtSotznuhDd",
        "outputId": "25ad485c-ca0b-4adc-ae53-91644f93858c"
      },
      "execution_count": null,
      "outputs": [
        {
          "output_type": "stream",
          "name": "stdout",
          "text": [
            "radius_graph is working ✅\n"
          ]
        }
      ]
    },
    {
      "cell_type": "code",
      "source": [
        "# Unzip the uploaded dataset\n",
        "!unzip -o -q /content/mppc.zip -d /content/mppc"
      ],
      "metadata": {
        "id": "2Qg_E0o4vQ27"
      },
      "execution_count": null,
      "outputs": []
    },
    {
      "cell_type": "code",
      "source": [
        "!pip install numpy==1.26.4\n",
        "\n"
      ],
      "metadata": {
        "colab": {
          "base_uri": "https://localhost:8080/"
        },
        "id": "9cQQoS4vx7wO",
        "outputId": "986d138f-32cf-4d80-b1ce-fe96152807aa"
      },
      "execution_count": null,
      "outputs": [
        {
          "output_type": "stream",
          "name": "stdout",
          "text": [
            "Requirement already satisfied: numpy==1.26.4 in /usr/local/lib/python3.11/dist-packages (1.26.4)\n"
          ]
        }
      ]
    },
    {
      "cell_type": "code",
      "source": [
        "# Install dependencies\n",
        "!pip install -q ase rdkit-pypi tqdm torch torch_geometric torch-scatter torch-sparse e3nn torch-cluster -f https://data.pyg.org/whl/torch-2.0.0+cu118.html\n",
        "\n",
        "# Imports\n",
        "import os\n",
        "import pandas as pd\n",
        "import torch\n",
        "from torch_geometric.loader import DataLoader\n",
        "from torch_geometric.nn.models import SchNet\n",
        "from torch_geometric.data import Data\n",
        "from tqdm import tqdm\n",
        "from ase.io import read\n",
        "from sklearn.metrics import mean_squared_error\n",
        "\n",
        "# Set paths\n",
        "ROOT = \"/content/mppc\"\n",
        "TRAIN_CSV = os.path.join(ROOT, \"dipole_moments_train.csv\")\n",
        "TEST_CSV = os.path.join(ROOT, \"dipole_moments_test.csv\")\n",
        "TRAIN_STRUCT_DIR = os.path.join(ROOT, \"structures_train\")\n",
        "TEST_STRUCT_DIR = os.path.join(ROOT, \"structures_test\")\n",
        "\n",
        "# Define custom dataset\n",
        "class DipoleDataset:\n",
        "    def __init__(self, csv_file, xyz_folder, is_train=True):\n",
        "        self.df = pd.read_csv(csv_file)\n",
        "        self.xyz_folder = xyz_folder\n",
        "        self.is_train = is_train\n",
        "        self.data_list = self.process()\n",
        "\n",
        "    def process(self):\n",
        "        data_list = []\n",
        "        for idx, row in tqdm(self.df.iterrows(), total=len(self.df), desc=\"Processing XYZ\"):\n",
        "            mol_id = row.get('molecule_name') or row.get('ID')\n",
        "            file_path = os.path.join(self.xyz_folder, f\"{mol_id}.xyz\")\n",
        "            if not os.path.exists(file_path):\n",
        "                continue\n",
        "            try:\n",
        "                mol = read(file_path)\n",
        "                pos = torch.tensor(mol.get_positions(), dtype=torch.float)\n",
        "                z = torch.tensor(mol.get_atomic_numbers(), dtype=torch.long)\n",
        "                y = torch.tensor([row['dipole_moment']], dtype=torch.float) if self.is_train else None\n",
        "                data = Data(z=z, pos=pos, y=y)\n",
        "                data_list.append(data)\n",
        "            except Exception as e:\n",
        "                print(f\"⚠️ Skipped {file_path}: {e}\")\n",
        "        return data_list\n",
        "\n",
        "    def __len__(self):\n",
        "        return len(self.data_list)\n",
        "\n",
        "    def __getitem__(self, idx):\n",
        "        return self.data_list[idx]\n",
        "\n",
        "# Prepare datasets\n",
        "train_dataset = DipoleDataset(TRAIN_CSV, TRAIN_STRUCT_DIR, is_train=True)\n",
        "test_dataset = DipoleDataset(TEST_CSV, TEST_STRUCT_DIR, is_train=False)\n",
        "\n",
        "# Create loaders\n",
        "train_loader = DataLoader(train_dataset.data_list, batch_size=32, shuffle=True)\n",
        "test_loader = DataLoader(test_dataset.data_list, batch_size=32, shuffle=False)\n",
        "\n",
        "# Define model\n",
        "device = torch.device('cuda' if torch.cuda.is_available() else 'cpu')\n",
        "model = SchNet(hidden_channels=128, num_filters=128, num_interactions=6, cutoff=10.0).to(device)\n",
        "optimizer = torch.optim.Adam(model.parameters(), lr=1e-3)\n",
        "loss_fn = torch.nn.MSELoss()\n",
        "\n",
        "# Train model\n",
        "epochs = 10\n",
        "model.train()\n",
        "for epoch in range(epochs):\n",
        "    total_loss = 0\n",
        "    for batch in train_loader:\n",
        "        batch = batch.to(device)\n",
        "        optimizer.zero_grad()\n",
        "        pred = model(batch.z, batch.pos, batch.batch)\n",
        "        loss = loss_fn(pred.view(-1), batch.y.view(-1))\n",
        "        loss.backward()\n",
        "        optimizer.step()\n",
        "        total_loss += loss.item()\n",
        "    print(f\"📚 Epoch {epoch+1}/{epochs}, Loss: {total_loss / len(train_loader):.6f}\")\n",
        "\n",
        "# Predict on test set\n",
        "model.eval()\n",
        "predictions = []\n",
        "with torch.no_grad():\n",
        "    for batch in tqdm(test_loader, desc=\"Predicting\"):\n",
        "        batch = batch.to(device)\n",
        "        preds = model(batch.z, batch.pos, batch.batch)\n",
        "        predictions.extend(preds.view(-1).cpu().numpy())\n",
        "\n",
        "# Save predictions without prompt\n",
        "test_df = pd.read_csv(TEST_CSV)\n",
        "test_df['dipole_moment'] = predictions\n",
        "test_df.to_csv(\"gnn_submission.csv\", index=False, mode='w')\n",
        "print(\"✅ Submission file saved as gnn_submission.csv\")\n",
        "\n",
        "from google.colab import files\n",
        "files.download(\"gnn_submission.csv\")\n",
        "\n",
        "\n",
        "# Evaluate on train set (optional)\n",
        "true_vals, pred_vals = [], []\n",
        "with torch.no_grad():\n",
        "    for batch in train_loader:\n",
        "        batch = batch.to(device)\n",
        "        pred = model(batch.z, batch.pos, batch.batch)\n",
        "        true_vals.extend(batch.y.view(-1).cpu().numpy())\n",
        "        pred_vals.extend(pred.view(-1).cpu().numpy())\n",
        "\n",
        "mse = mean_squared_error(true_vals, pred_vals)\n",
        "print(f\"📊 Train Set MSE: {mse:.6f}\")\n"
      ],
      "metadata": {
        "colab": {
          "base_uri": "https://localhost:8080/",
          "height": 277
        },
        "id": "ajYS3aoBu6Td",
        "outputId": "86da3a32-649b-44a3-9995-92a7b4f742c2"
      },
      "execution_count": null,
      "outputs": [
        {
          "output_type": "stream",
          "name": "stderr",
          "text": [
            "Processing XYZ: 100%|██████████| 20000/20000 [00:29<00:00, 685.18it/s]\n",
            "Processing XYZ: 100%|██████████| 5000/5000 [00:08<00:00, 596.36it/s]\n"
          ]
        },
        {
          "output_type": "stream",
          "name": "stdout",
          "text": [
            "📚 Epoch 1/10, Loss: 4.382792\n",
            "📚 Epoch 2/10, Loss: 0.949474\n",
            "📚 Epoch 3/10, Loss: 0.718826\n",
            "📚 Epoch 4/10, Loss: 0.541757\n",
            "📚 Epoch 5/10, Loss: 0.451399\n",
            "📚 Epoch 6/10, Loss: 0.372449\n",
            "📚 Epoch 7/10, Loss: 0.320102\n",
            "📚 Epoch 8/10, Loss: 0.286320\n",
            "📚 Epoch 9/10, Loss: 0.280206\n",
            "📚 Epoch 10/10, Loss: 0.208135\n"
          ]
        },
        {
          "output_type": "stream",
          "name": "stderr",
          "text": [
            "Predicting: 100%|██████████| 157/157 [00:45<00:00,  3.48it/s]"
          ]
        },
        {
          "output_type": "stream",
          "name": "stdout",
          "text": [
            "✅ Submission file saved as gnn_submission.csv\n"
          ]
        },
        {
          "output_type": "stream",
          "name": "stderr",
          "text": [
            "\n"
          ]
        },
        {
          "output_type": "display_data",
          "data": {
            "text/plain": [
              "<IPython.core.display.Javascript object>"
            ],
            "application/javascript": [
              "\n",
              "    async function download(id, filename, size) {\n",
              "      if (!google.colab.kernel.accessAllowed) {\n",
              "        return;\n",
              "      }\n",
              "      const div = document.createElement('div');\n",
              "      const label = document.createElement('label');\n",
              "      label.textContent = `Downloading \"${filename}\": `;\n",
              "      div.appendChild(label);\n",
              "      const progress = document.createElement('progress');\n",
              "      progress.max = size;\n",
              "      div.appendChild(progress);\n",
              "      document.body.appendChild(div);\n",
              "\n",
              "      const buffers = [];\n",
              "      let downloaded = 0;\n",
              "\n",
              "      const channel = await google.colab.kernel.comms.open(id);\n",
              "      // Send a message to notify the kernel that we're ready.\n",
              "      channel.send({})\n",
              "\n",
              "      for await (const message of channel.messages) {\n",
              "        // Send a message to notify the kernel that we're ready.\n",
              "        channel.send({})\n",
              "        if (message.buffers) {\n",
              "          for (const buffer of message.buffers) {\n",
              "            buffers.push(buffer);\n",
              "            downloaded += buffer.byteLength;\n",
              "            progress.value = downloaded;\n",
              "          }\n",
              "        }\n",
              "      }\n",
              "      const blob = new Blob(buffers, {type: 'application/binary'});\n",
              "      const a = document.createElement('a');\n",
              "      a.href = window.URL.createObjectURL(blob);\n",
              "      a.download = filename;\n",
              "      div.appendChild(a);\n",
              "      a.click();\n",
              "      div.remove();\n",
              "    }\n",
              "  "
            ]
          },
          "metadata": {}
        },
        {
          "output_type": "display_data",
          "data": {
            "text/plain": [
              "<IPython.core.display.Javascript object>"
            ],
            "application/javascript": [
              "download(\"download_30bcfb3b-dba0-4ff7-be52-05692dcb0feb\", \"gnn_submission.csv\", 92881)"
            ]
          },
          "metadata": {}
        },
        {
          "output_type": "stream",
          "name": "stdout",
          "text": [
            "📊 Train Set MSE: 0.150864\n"
          ]
        }
      ]
    },
    {
      "cell_type": "code",
      "source": [],
      "metadata": {
        "id": "d5d8zMhhWdXL"
      },
      "execution_count": null,
      "outputs": []
    }
  ]
}